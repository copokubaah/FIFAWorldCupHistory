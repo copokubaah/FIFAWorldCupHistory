{
 "cells": [
  {
   "cell_type": "markdown",
   "id": "straight-plain",
   "metadata": {},
   "source": [
    "# EXPLORATORY DATA ANALYSIS ON WORLD CUP HISTORY DATA"
   ]
  },
  {
   "cell_type": "markdown",
   "id": "coordinated-seven",
   "metadata": {},
   "source": [
    "The FIFA World Cup, often simply called the World Cup, is an international association football competition contested by the senior men's national teams of the members of the Fédération Internationale de Football Association (FIFA), the sport's global governing body. The tournament has been held every four years since the inaugural tournament in 1930, except in 1942 and 1946 when it was not held because of the Second World War. The reigning champions are Argentina, who won their third title at the 2022 tournament (From Wikipedia)."
   ]
  },
  {
   "cell_type": "markdown",
   "id": "indian-virus",
   "metadata": {},
   "source": [
    "### STEP 1: IMPORT LIBRARIES"
   ]
  },
  {
   "cell_type": "code",
   "execution_count": 1,
   "id": "interstate-bulletin",
   "metadata": {},
   "outputs": [],
   "source": [
    "import numpy as np\n",
    "import pandas as pd\n",
    "import matplotlib.pyplot as plt"
   ]
  },
  {
   "cell_type": "markdown",
   "id": "continuous-halloween",
   "metadata": {},
   "source": [
    "### STEP 2: IMPORT DATA"
   ]
  },
  {
   "cell_type": "code",
   "execution_count": 2,
   "id": "tested-better",
   "metadata": {},
   "outputs": [],
   "source": [
    "matchdata = pd.read_csv('G:\\YouTubeChannel\\worldcupdata.csv')"
   ]
  },
  {
   "cell_type": "markdown",
   "id": "blocked-decline",
   "metadata": {},
   "source": [
    "### STEP 3: EXPLORATORY DATA ANALYSIS"
   ]
  },
  {
   "cell_type": "code",
   "execution_count": 3,
   "id": "wooden-auckland",
   "metadata": {},
   "outputs": [
    {
     "data": {
      "text/html": [
       "<div>\n",
       "<style scoped>\n",
       "    .dataframe tbody tr th:only-of-type {\n",
       "        vertical-align: middle;\n",
       "    }\n",
       "\n",
       "    .dataframe tbody tr th {\n",
       "        vertical-align: top;\n",
       "    }\n",
       "\n",
       "    .dataframe thead th {\n",
       "        text-align: right;\n",
       "    }\n",
       "</style>\n",
       "<table border=\"1\" class=\"dataframe\">\n",
       "  <thead>\n",
       "    <tr style=\"text-align: right;\">\n",
       "      <th></th>\n",
       "      <th>Unnamed: 0</th>\n",
       "      <th>Year</th>\n",
       "      <th>Date</th>\n",
       "      <th>Time</th>\n",
       "      <th>HomeTeam</th>\n",
       "      <th>AwayTeam</th>\n",
       "      <th>HomeScore</th>\n",
       "      <th>AwayScore</th>\n",
       "      <th>HomeScorers</th>\n",
       "      <th>AwayScorers</th>\n",
       "      <th>ExtraTime</th>\n",
       "      <th>Penalty</th>\n",
       "      <th>HomePenaltyScore</th>\n",
       "      <th>AwayPenaltyScore</th>\n",
       "      <th>Stadium</th>\n",
       "      <th>Location</th>\n",
       "      <th>Attendance</th>\n",
       "      <th>Referee</th>\n",
       "    </tr>\n",
       "  </thead>\n",
       "  <tbody>\n",
       "    <tr>\n",
       "      <th>0</th>\n",
       "      <td>0</td>\n",
       "      <td>1930</td>\n",
       "      <td>13 July 1930</td>\n",
       "      <td>15:00 UYT (UTC−03:30)</td>\n",
       "      <td>France</td>\n",
       "      <td>Mexico</td>\n",
       "      <td>4</td>\n",
       "      <td>1</td>\n",
       "      <td>L. Laurent  19'Langiller  40'Maschinot  43', 87'</td>\n",
       "      <td>Carreño  70'</td>\n",
       "      <td>0</td>\n",
       "      <td>0</td>\n",
       "      <td>0</td>\n",
       "      <td>0</td>\n",
       "      <td>Estadio Pocitos</td>\n",
       "      <td>Montevideo</td>\n",
       "      <td>4,444</td>\n",
       "      <td>Domingo Lombardi (Uruguay)</td>\n",
       "    </tr>\n",
       "    <tr>\n",
       "      <th>1</th>\n",
       "      <td>1</td>\n",
       "      <td>1930</td>\n",
       "      <td>15 July 1930</td>\n",
       "      <td>16:00 UYT (UTC−03:30)</td>\n",
       "      <td>Argentina</td>\n",
       "      <td>France</td>\n",
       "      <td>1</td>\n",
       "      <td>0</td>\n",
       "      <td>Monti  81'</td>\n",
       "      <td>NaN</td>\n",
       "      <td>0</td>\n",
       "      <td>0</td>\n",
       "      <td>0</td>\n",
       "      <td>0</td>\n",
       "      <td>Estadio Parque Central</td>\n",
       "      <td>Montevideo</td>\n",
       "      <td>23,409</td>\n",
       "      <td>Almeida Rêgo (Brazil)</td>\n",
       "    </tr>\n",
       "    <tr>\n",
       "      <th>2</th>\n",
       "      <td>2</td>\n",
       "      <td>1930</td>\n",
       "      <td>16 July 1930</td>\n",
       "      <td>14:45 UYT (UTC−03:30)</td>\n",
       "      <td>Chile</td>\n",
       "      <td>Mexico</td>\n",
       "      <td>3</td>\n",
       "      <td>0</td>\n",
       "      <td>Vidal  3', 65'M. Rosas  52' (o.g.)</td>\n",
       "      <td>NaN</td>\n",
       "      <td>0</td>\n",
       "      <td>0</td>\n",
       "      <td>0</td>\n",
       "      <td>0</td>\n",
       "      <td>Estadio Parque Central</td>\n",
       "      <td>Montevideo</td>\n",
       "      <td>9,249</td>\n",
       "      <td>Henri Christophe (Belgium)</td>\n",
       "    </tr>\n",
       "    <tr>\n",
       "      <th>3</th>\n",
       "      <td>3</td>\n",
       "      <td>1930</td>\n",
       "      <td>19 July 1930</td>\n",
       "      <td>12:50 UYT (UTC−03:30)</td>\n",
       "      <td>Chile</td>\n",
       "      <td>France</td>\n",
       "      <td>1</td>\n",
       "      <td>0</td>\n",
       "      <td>Subiabre  67'</td>\n",
       "      <td>NaN</td>\n",
       "      <td>0</td>\n",
       "      <td>0</td>\n",
       "      <td>0</td>\n",
       "      <td>0</td>\n",
       "      <td>Estadio Centenario</td>\n",
       "      <td>Montevideo</td>\n",
       "      <td>2,000</td>\n",
       "      <td>Anibal Tejada (Uruguay)</td>\n",
       "    </tr>\n",
       "    <tr>\n",
       "      <th>4</th>\n",
       "      <td>4</td>\n",
       "      <td>1930</td>\n",
       "      <td>19 July 1930</td>\n",
       "      <td>15:00 UYT (UTC−03:30)</td>\n",
       "      <td>Argentina</td>\n",
       "      <td>Mexico</td>\n",
       "      <td>6</td>\n",
       "      <td>3</td>\n",
       "      <td>Stábile  8', 17', 80'Zumelzú  12', 55'Varall...</td>\n",
       "      <td>M. Rosas  42' (pen.), 65'Gayón  75'</td>\n",
       "      <td>0</td>\n",
       "      <td>0</td>\n",
       "      <td>0</td>\n",
       "      <td>0</td>\n",
       "      <td>Estadio Centenario</td>\n",
       "      <td>Montevideo</td>\n",
       "      <td>42,100</td>\n",
       "      <td>Ulises Saucedo (Bolivia)</td>\n",
       "    </tr>\n",
       "  </tbody>\n",
       "</table>\n",
       "</div>"
      ],
      "text/plain": [
       "   Unnamed: 0  Year          Date                   Time   HomeTeam AwayTeam  \\\n",
       "0           0  1930  13 July 1930  15:00 UYT (UTC−03:30)     France   Mexico   \n",
       "1           1  1930  15 July 1930  16:00 UYT (UTC−03:30)  Argentina   France   \n",
       "2           2  1930  16 July 1930  14:45 UYT (UTC−03:30)      Chile   Mexico   \n",
       "3           3  1930  19 July 1930  12:50 UYT (UTC−03:30)      Chile   France   \n",
       "4           4  1930  19 July 1930  15:00 UYT (UTC−03:30)  Argentina   Mexico   \n",
       "\n",
       "   HomeScore  AwayScore                                        HomeScorers  \\\n",
       "0          4          1   L. Laurent  19'Langiller  40'Maschinot  43', 87'   \n",
       "1          1          0                                         Monti  81'   \n",
       "2          3          0                 Vidal  3', 65'M. Rosas  52' (o.g.)   \n",
       "3          1          0                                      Subiabre  67'   \n",
       "4          6          3  Stábile  8', 17', 80'Zumelzú  12', 55'Varall...   \n",
       "\n",
       "                            AwayScorers  ExtraTime  Penalty  HomePenaltyScore  \\\n",
       "0                         Carreño  70'          0        0                 0   \n",
       "1                                   NaN          0        0                 0   \n",
       "2                                   NaN          0        0                 0   \n",
       "3                                   NaN          0        0                 0   \n",
       "4  M. Rosas  42' (pen.), 65'Gayón  75'          0        0                 0   \n",
       "\n",
       "   AwayPenaltyScore                 Stadium     Location Attendance  \\\n",
       "0                 0         Estadio Pocitos   Montevideo      4,444   \n",
       "1                 0  Estadio Parque Central   Montevideo     23,409   \n",
       "2                 0  Estadio Parque Central   Montevideo      9,249   \n",
       "3                 0      Estadio Centenario   Montevideo      2,000   \n",
       "4                 0      Estadio Centenario   Montevideo     42,100   \n",
       "\n",
       "                      Referee  \n",
       "0  Domingo Lombardi (Uruguay)  \n",
       "1      Almeida Rêgo (Brazil)  \n",
       "2  Henri Christophe (Belgium)  \n",
       "3     Anibal Tejada (Uruguay)  \n",
       "4    Ulises Saucedo (Bolivia)  "
      ]
     },
     "execution_count": 3,
     "metadata": {},
     "output_type": "execute_result"
    }
   ],
   "source": [
    "matchdata.head()"
   ]
  },
  {
   "cell_type": "code",
   "execution_count": 4,
   "id": "breeding-disabled",
   "metadata": {},
   "outputs": [
    {
     "data": {
      "text/html": [
       "<div>\n",
       "<style scoped>\n",
       "    .dataframe tbody tr th:only-of-type {\n",
       "        vertical-align: middle;\n",
       "    }\n",
       "\n",
       "    .dataframe tbody tr th {\n",
       "        vertical-align: top;\n",
       "    }\n",
       "\n",
       "    .dataframe thead th {\n",
       "        text-align: right;\n",
       "    }\n",
       "</style>\n",
       "<table border=\"1\" class=\"dataframe\">\n",
       "  <thead>\n",
       "    <tr style=\"text-align: right;\">\n",
       "      <th></th>\n",
       "      <th>Unnamed: 0</th>\n",
       "      <th>Year</th>\n",
       "      <th>Date</th>\n",
       "      <th>Time</th>\n",
       "      <th>HomeTeam</th>\n",
       "      <th>AwayTeam</th>\n",
       "      <th>HomeScore</th>\n",
       "      <th>AwayScore</th>\n",
       "      <th>HomeScorers</th>\n",
       "      <th>AwayScorers</th>\n",
       "      <th>ExtraTime</th>\n",
       "      <th>Penalty</th>\n",
       "      <th>HomePenaltyScore</th>\n",
       "      <th>AwayPenaltyScore</th>\n",
       "      <th>Stadium</th>\n",
       "      <th>Location</th>\n",
       "      <th>Attendance</th>\n",
       "      <th>Referee</th>\n",
       "    </tr>\n",
       "  </thead>\n",
       "  <tbody>\n",
       "    <tr>\n",
       "      <th>959</th>\n",
       "      <td>959</td>\n",
       "      <td>2022</td>\n",
       "      <td>10 December 2022 (2022-12-10)</td>\n",
       "      <td>22:00</td>\n",
       "      <td>England</td>\n",
       "      <td>France</td>\n",
       "      <td>1</td>\n",
       "      <td>2</td>\n",
       "      <td>\\nKane  54' (pen.)</td>\n",
       "      <td>\\nTchouaméni  17'\\nGiroud  78'</td>\n",
       "      <td>0</td>\n",
       "      <td>0</td>\n",
       "      <td>0</td>\n",
       "      <td>0</td>\n",
       "      <td>Al Bayt Stadium</td>\n",
       "      <td>Al Khor</td>\n",
       "      <td>68,895</td>\n",
       "      <td>Wilton Sampaio (Brazil)</td>\n",
       "    </tr>\n",
       "    <tr>\n",
       "      <th>960</th>\n",
       "      <td>960</td>\n",
       "      <td>2022</td>\n",
       "      <td>13 December 2022 (2022-12-13)</td>\n",
       "      <td>22:00</td>\n",
       "      <td>Argentina</td>\n",
       "      <td>Croatia</td>\n",
       "      <td>3</td>\n",
       "      <td>0</td>\n",
       "      <td>\\nMessi  34' (pen.)\\nÁlvarez  39', 69'</td>\n",
       "      <td>NaN</td>\n",
       "      <td>0</td>\n",
       "      <td>0</td>\n",
       "      <td>0</td>\n",
       "      <td>0</td>\n",
       "      <td>Lusail Stadium</td>\n",
       "      <td>Lusail</td>\n",
       "      <td>88,966</td>\n",
       "      <td>Daniele Orsato (Italy)</td>\n",
       "    </tr>\n",
       "    <tr>\n",
       "      <th>961</th>\n",
       "      <td>961</td>\n",
       "      <td>2022</td>\n",
       "      <td>14 December 2022 (2022-12-14)</td>\n",
       "      <td>22:00</td>\n",
       "      <td>France</td>\n",
       "      <td>Morocco</td>\n",
       "      <td>2</td>\n",
       "      <td>0</td>\n",
       "      <td>\\nT. Hernandez  5'\\nKolo Muani  79'</td>\n",
       "      <td>NaN</td>\n",
       "      <td>0</td>\n",
       "      <td>0</td>\n",
       "      <td>0</td>\n",
       "      <td>0</td>\n",
       "      <td>Al Bayt Stadium</td>\n",
       "      <td>Al Khor</td>\n",
       "      <td>68,294</td>\n",
       "      <td>César Arturo Ramos (Mexico)</td>\n",
       "    </tr>\n",
       "    <tr>\n",
       "      <th>962</th>\n",
       "      <td>962</td>\n",
       "      <td>2022</td>\n",
       "      <td>17 December 2022 (2022-12-17)</td>\n",
       "      <td>18:00</td>\n",
       "      <td>Croatia</td>\n",
       "      <td>Morocco</td>\n",
       "      <td>2</td>\n",
       "      <td>1</td>\n",
       "      <td>\\nGvardiol  7'\\nOršić  42'</td>\n",
       "      <td>\\nDari  9'</td>\n",
       "      <td>0</td>\n",
       "      <td>0</td>\n",
       "      <td>0</td>\n",
       "      <td>0</td>\n",
       "      <td>Khalifa International Stadium</td>\n",
       "      <td>Al Rayyan</td>\n",
       "      <td>44,137</td>\n",
       "      <td>Abdulrahman Al-Jassim (Qatar)</td>\n",
       "    </tr>\n",
       "    <tr>\n",
       "      <th>963</th>\n",
       "      <td>963</td>\n",
       "      <td>2022</td>\n",
       "      <td>18 December 2022 (2022-12-18)</td>\n",
       "      <td>18:00</td>\n",
       "      <td>Argentina</td>\n",
       "      <td>France</td>\n",
       "      <td>3</td>\n",
       "      <td>3</td>\n",
       "      <td>\\nMessi  23' (pen.), 108'\\nDi María  36'</td>\n",
       "      <td>\\nMbappé  80' (pen.), 81', 118' (pen.)</td>\n",
       "      <td>1</td>\n",
       "      <td>1</td>\n",
       "      <td>4</td>\n",
       "      <td>2</td>\n",
       "      <td>Lusail Stadium</td>\n",
       "      <td>Lusail</td>\n",
       "      <td>88,966</td>\n",
       "      <td>Szymon Marciniak (Poland)</td>\n",
       "    </tr>\n",
       "  </tbody>\n",
       "</table>\n",
       "</div>"
      ],
      "text/plain": [
       "     Unnamed: 0  Year                           Date   Time   HomeTeam  \\\n",
       "959         959  2022  10 December 2022 (2022-12-10)  22:00    England   \n",
       "960         960  2022  13 December 2022 (2022-12-13)  22:00  Argentina   \n",
       "961         961  2022  14 December 2022 (2022-12-14)  22:00     France   \n",
       "962         962  2022  17 December 2022 (2022-12-17)  18:00    Croatia   \n",
       "963         963  2022  18 December 2022 (2022-12-18)  18:00  Argentina   \n",
       "\n",
       "    AwayTeam  HomeScore  AwayScore                                HomeScorers  \\\n",
       "959   France          1          2                         \\nKane  54' (pen.)   \n",
       "960  Croatia          3          0    \\nMessi  34' (pen.)\\nÁlvarez  39', 69'   \n",
       "961  Morocco          2          0        \\nT. Hernandez  5'\\nKolo Muani  79'   \n",
       "962  Morocco          2          1               \\nGvardiol  7'\\nOršić  42'   \n",
       "963   France          3          3  \\nMessi  23' (pen.), 108'\\nDi María  36'   \n",
       "\n",
       "                                 AwayScorers  ExtraTime  Penalty  \\\n",
       "959          \\nTchouaméni  17'\\nGiroud  78'          0        0   \n",
       "960                                      NaN          0        0   \n",
       "961                                      NaN          0        0   \n",
       "962                               \\nDari  9'          0        0   \n",
       "963  \\nMbappé  80' (pen.), 81', 118' (pen.)          1        1   \n",
       "\n",
       "     HomePenaltyScore  AwayPenaltyScore                        Stadium  \\\n",
       "959                 0                 0                Al Bayt Stadium   \n",
       "960                 0                 0                 Lusail Stadium   \n",
       "961                 0                 0                Al Bayt Stadium   \n",
       "962                 0                 0  Khalifa International Stadium   \n",
       "963                 4                 2                 Lusail Stadium   \n",
       "\n",
       "       Location Attendance                        Referee  \n",
       "959     Al Khor     68,895        Wilton Sampaio (Brazil)  \n",
       "960      Lusail     88,966         Daniele Orsato (Italy)  \n",
       "961     Al Khor     68,294   César Arturo Ramos (Mexico)  \n",
       "962   Al Rayyan     44,137  Abdulrahman Al-Jassim (Qatar)  \n",
       "963      Lusail     88,966      Szymon Marciniak (Poland)  "
      ]
     },
     "execution_count": 4,
     "metadata": {},
     "output_type": "execute_result"
    }
   ],
   "source": [
    "matchdata.tail()"
   ]
  },
  {
   "cell_type": "markdown",
   "id": "accepted-necessity",
   "metadata": {},
   "source": [
    "#### drop first column: Unnamed: 0"
   ]
  },
  {
   "cell_type": "code",
   "execution_count": 5,
   "id": "logical-gabriel",
   "metadata": {},
   "outputs": [
    {
     "data": {
      "text/html": [
       "<div>\n",
       "<style scoped>\n",
       "    .dataframe tbody tr th:only-of-type {\n",
       "        vertical-align: middle;\n",
       "    }\n",
       "\n",
       "    .dataframe tbody tr th {\n",
       "        vertical-align: top;\n",
       "    }\n",
       "\n",
       "    .dataframe thead th {\n",
       "        text-align: right;\n",
       "    }\n",
       "</style>\n",
       "<table border=\"1\" class=\"dataframe\">\n",
       "  <thead>\n",
       "    <tr style=\"text-align: right;\">\n",
       "      <th></th>\n",
       "      <th>Year</th>\n",
       "      <th>Date</th>\n",
       "      <th>Time</th>\n",
       "      <th>HomeTeam</th>\n",
       "      <th>AwayTeam</th>\n",
       "      <th>HomeScore</th>\n",
       "      <th>AwayScore</th>\n",
       "      <th>HomeScorers</th>\n",
       "      <th>AwayScorers</th>\n",
       "      <th>ExtraTime</th>\n",
       "      <th>Penalty</th>\n",
       "      <th>HomePenaltyScore</th>\n",
       "      <th>AwayPenaltyScore</th>\n",
       "      <th>Stadium</th>\n",
       "      <th>Location</th>\n",
       "      <th>Attendance</th>\n",
       "      <th>Referee</th>\n",
       "    </tr>\n",
       "  </thead>\n",
       "  <tbody>\n",
       "    <tr>\n",
       "      <th>0</th>\n",
       "      <td>1930</td>\n",
       "      <td>13 July 1930</td>\n",
       "      <td>15:00 UYT (UTC−03:30)</td>\n",
       "      <td>France</td>\n",
       "      <td>Mexico</td>\n",
       "      <td>4</td>\n",
       "      <td>1</td>\n",
       "      <td>L. Laurent  19'Langiller  40'Maschinot  43', 87'</td>\n",
       "      <td>Carreño  70'</td>\n",
       "      <td>0</td>\n",
       "      <td>0</td>\n",
       "      <td>0</td>\n",
       "      <td>0</td>\n",
       "      <td>Estadio Pocitos</td>\n",
       "      <td>Montevideo</td>\n",
       "      <td>4,444</td>\n",
       "      <td>Domingo Lombardi (Uruguay)</td>\n",
       "    </tr>\n",
       "    <tr>\n",
       "      <th>1</th>\n",
       "      <td>1930</td>\n",
       "      <td>15 July 1930</td>\n",
       "      <td>16:00 UYT (UTC−03:30)</td>\n",
       "      <td>Argentina</td>\n",
       "      <td>France</td>\n",
       "      <td>1</td>\n",
       "      <td>0</td>\n",
       "      <td>Monti  81'</td>\n",
       "      <td>NaN</td>\n",
       "      <td>0</td>\n",
       "      <td>0</td>\n",
       "      <td>0</td>\n",
       "      <td>0</td>\n",
       "      <td>Estadio Parque Central</td>\n",
       "      <td>Montevideo</td>\n",
       "      <td>23,409</td>\n",
       "      <td>Almeida Rêgo (Brazil)</td>\n",
       "    </tr>\n",
       "    <tr>\n",
       "      <th>2</th>\n",
       "      <td>1930</td>\n",
       "      <td>16 July 1930</td>\n",
       "      <td>14:45 UYT (UTC−03:30)</td>\n",
       "      <td>Chile</td>\n",
       "      <td>Mexico</td>\n",
       "      <td>3</td>\n",
       "      <td>0</td>\n",
       "      <td>Vidal  3', 65'M. Rosas  52' (o.g.)</td>\n",
       "      <td>NaN</td>\n",
       "      <td>0</td>\n",
       "      <td>0</td>\n",
       "      <td>0</td>\n",
       "      <td>0</td>\n",
       "      <td>Estadio Parque Central</td>\n",
       "      <td>Montevideo</td>\n",
       "      <td>9,249</td>\n",
       "      <td>Henri Christophe (Belgium)</td>\n",
       "    </tr>\n",
       "    <tr>\n",
       "      <th>3</th>\n",
       "      <td>1930</td>\n",
       "      <td>19 July 1930</td>\n",
       "      <td>12:50 UYT (UTC−03:30)</td>\n",
       "      <td>Chile</td>\n",
       "      <td>France</td>\n",
       "      <td>1</td>\n",
       "      <td>0</td>\n",
       "      <td>Subiabre  67'</td>\n",
       "      <td>NaN</td>\n",
       "      <td>0</td>\n",
       "      <td>0</td>\n",
       "      <td>0</td>\n",
       "      <td>0</td>\n",
       "      <td>Estadio Centenario</td>\n",
       "      <td>Montevideo</td>\n",
       "      <td>2,000</td>\n",
       "      <td>Anibal Tejada (Uruguay)</td>\n",
       "    </tr>\n",
       "    <tr>\n",
       "      <th>4</th>\n",
       "      <td>1930</td>\n",
       "      <td>19 July 1930</td>\n",
       "      <td>15:00 UYT (UTC−03:30)</td>\n",
       "      <td>Argentina</td>\n",
       "      <td>Mexico</td>\n",
       "      <td>6</td>\n",
       "      <td>3</td>\n",
       "      <td>Stábile  8', 17', 80'Zumelzú  12', 55'Varall...</td>\n",
       "      <td>M. Rosas  42' (pen.), 65'Gayón  75'</td>\n",
       "      <td>0</td>\n",
       "      <td>0</td>\n",
       "      <td>0</td>\n",
       "      <td>0</td>\n",
       "      <td>Estadio Centenario</td>\n",
       "      <td>Montevideo</td>\n",
       "      <td>42,100</td>\n",
       "      <td>Ulises Saucedo (Bolivia)</td>\n",
       "    </tr>\n",
       "  </tbody>\n",
       "</table>\n",
       "</div>"
      ],
      "text/plain": [
       "   Year          Date                   Time   HomeTeam AwayTeam  HomeScore  \\\n",
       "0  1930  13 July 1930  15:00 UYT (UTC−03:30)     France   Mexico          4   \n",
       "1  1930  15 July 1930  16:00 UYT (UTC−03:30)  Argentina   France          1   \n",
       "2  1930  16 July 1930  14:45 UYT (UTC−03:30)      Chile   Mexico          3   \n",
       "3  1930  19 July 1930  12:50 UYT (UTC−03:30)      Chile   France          1   \n",
       "4  1930  19 July 1930  15:00 UYT (UTC−03:30)  Argentina   Mexico          6   \n",
       "\n",
       "   AwayScore                                        HomeScorers  \\\n",
       "0          1   L. Laurent  19'Langiller  40'Maschinot  43', 87'   \n",
       "1          0                                         Monti  81'   \n",
       "2          0                 Vidal  3', 65'M. Rosas  52' (o.g.)   \n",
       "3          0                                      Subiabre  67'   \n",
       "4          3  Stábile  8', 17', 80'Zumelzú  12', 55'Varall...   \n",
       "\n",
       "                            AwayScorers  ExtraTime  Penalty  HomePenaltyScore  \\\n",
       "0                         Carreño  70'          0        0                 0   \n",
       "1                                   NaN          0        0                 0   \n",
       "2                                   NaN          0        0                 0   \n",
       "3                                   NaN          0        0                 0   \n",
       "4  M. Rosas  42' (pen.), 65'Gayón  75'          0        0                 0   \n",
       "\n",
       "   AwayPenaltyScore                 Stadium     Location Attendance  \\\n",
       "0                 0         Estadio Pocitos   Montevideo      4,444   \n",
       "1                 0  Estadio Parque Central   Montevideo     23,409   \n",
       "2                 0  Estadio Parque Central   Montevideo      9,249   \n",
       "3                 0      Estadio Centenario   Montevideo      2,000   \n",
       "4                 0      Estadio Centenario   Montevideo     42,100   \n",
       "\n",
       "                      Referee  \n",
       "0  Domingo Lombardi (Uruguay)  \n",
       "1      Almeida Rêgo (Brazil)  \n",
       "2  Henri Christophe (Belgium)  \n",
       "3     Anibal Tejada (Uruguay)  \n",
       "4    Ulises Saucedo (Bolivia)  "
      ]
     },
     "execution_count": 5,
     "metadata": {},
     "output_type": "execute_result"
    }
   ],
   "source": [
    "matchdata = matchdata[matchdata.columns[1:]]\n",
    "matchdata.head()"
   ]
  },
  {
   "cell_type": "code",
   "execution_count": 6,
   "id": "requested-badge",
   "metadata": {},
   "outputs": [
    {
     "data": {
      "text/plain": [
       "(964, 17)"
      ]
     },
     "execution_count": 6,
     "metadata": {},
     "output_type": "execute_result"
    }
   ],
   "source": [
    "matchdata.shape"
   ]
  },
  {
   "cell_type": "code",
   "execution_count": 7,
   "id": "individual-bristol",
   "metadata": {},
   "outputs": [
    {
     "name": "stdout",
     "output_type": "stream",
     "text": [
      "<class 'pandas.core.frame.DataFrame'>\n",
      "RangeIndex: 964 entries, 0 to 963\n",
      "Data columns (total 17 columns):\n",
      " #   Column            Non-Null Count  Dtype \n",
      "---  ------            --------------  ----- \n",
      " 0   Year              964 non-null    int64 \n",
      " 1   Date              964 non-null    object\n",
      " 2   Time              964 non-null    object\n",
      " 3   HomeTeam          964 non-null    object\n",
      " 4   AwayTeam          964 non-null    object\n",
      " 5   HomeScore         964 non-null    int64 \n",
      " 6   AwayScore         964 non-null    int64 \n",
      " 7   HomeScorers       750 non-null    object\n",
      " 8   AwayScorers       626 non-null    object\n",
      " 9   ExtraTime         964 non-null    int64 \n",
      " 10  Penalty           964 non-null    int64 \n",
      " 11  HomePenaltyScore  964 non-null    int64 \n",
      " 12  AwayPenaltyScore  964 non-null    int64 \n",
      " 13  Stadium           964 non-null    object\n",
      " 14  Location          964 non-null    object\n",
      " 15  Attendance        964 non-null    object\n",
      " 16  Referee           964 non-null    object\n",
      "dtypes: int64(7), object(10)\n",
      "memory usage: 128.2+ KB\n"
     ]
    }
   ],
   "source": [
    "matchdata.info()"
   ]
  },
  {
   "cell_type": "code",
   "execution_count": 8,
   "id": "included-paper",
   "metadata": {},
   "outputs": [
    {
     "data": {
      "text/html": [
       "<div>\n",
       "<style scoped>\n",
       "    .dataframe tbody tr th:only-of-type {\n",
       "        vertical-align: middle;\n",
       "    }\n",
       "\n",
       "    .dataframe tbody tr th {\n",
       "        vertical-align: top;\n",
       "    }\n",
       "\n",
       "    .dataframe thead th {\n",
       "        text-align: right;\n",
       "    }\n",
       "</style>\n",
       "<table border=\"1\" class=\"dataframe\">\n",
       "  <thead>\n",
       "    <tr style=\"text-align: right;\">\n",
       "      <th></th>\n",
       "      <th>Year</th>\n",
       "      <th>HomeScore</th>\n",
       "      <th>AwayScore</th>\n",
       "      <th>ExtraTime</th>\n",
       "      <th>Penalty</th>\n",
       "      <th>HomePenaltyScore</th>\n",
       "      <th>AwayPenaltyScore</th>\n",
       "    </tr>\n",
       "  </thead>\n",
       "  <tbody>\n",
       "    <tr>\n",
       "      <th>count</th>\n",
       "      <td>964.000000</td>\n",
       "      <td>964.000000</td>\n",
       "      <td>964.000000</td>\n",
       "      <td>964.000000</td>\n",
       "      <td>964.000000</td>\n",
       "      <td>964.000000</td>\n",
       "      <td>964.000000</td>\n",
       "    </tr>\n",
       "    <tr>\n",
       "      <th>mean</th>\n",
       "      <td>1989.244813</td>\n",
       "      <td>1.763485</td>\n",
       "      <td>1.058091</td>\n",
       "      <td>0.075726</td>\n",
       "      <td>0.036307</td>\n",
       "      <td>0.121369</td>\n",
       "      <td>0.108921</td>\n",
       "    </tr>\n",
       "    <tr>\n",
       "      <th>std</th>\n",
       "      <td>24.014409</td>\n",
       "      <td>1.601555</td>\n",
       "      <td>1.073008</td>\n",
       "      <td>0.264697</td>\n",
       "      <td>0.187150</td>\n",
       "      <td>0.665731</td>\n",
       "      <td>0.600764</td>\n",
       "    </tr>\n",
       "    <tr>\n",
       "      <th>min</th>\n",
       "      <td>1930.000000</td>\n",
       "      <td>0.000000</td>\n",
       "      <td>0.000000</td>\n",
       "      <td>0.000000</td>\n",
       "      <td>0.000000</td>\n",
       "      <td>0.000000</td>\n",
       "      <td>0.000000</td>\n",
       "    </tr>\n",
       "    <tr>\n",
       "      <th>25%</th>\n",
       "      <td>1974.000000</td>\n",
       "      <td>1.000000</td>\n",
       "      <td>0.000000</td>\n",
       "      <td>0.000000</td>\n",
       "      <td>0.000000</td>\n",
       "      <td>0.000000</td>\n",
       "      <td>0.000000</td>\n",
       "    </tr>\n",
       "    <tr>\n",
       "      <th>50%</th>\n",
       "      <td>1994.000000</td>\n",
       "      <td>1.000000</td>\n",
       "      <td>1.000000</td>\n",
       "      <td>0.000000</td>\n",
       "      <td>0.000000</td>\n",
       "      <td>0.000000</td>\n",
       "      <td>0.000000</td>\n",
       "    </tr>\n",
       "    <tr>\n",
       "      <th>75%</th>\n",
       "      <td>2010.000000</td>\n",
       "      <td>3.000000</td>\n",
       "      <td>2.000000</td>\n",
       "      <td>0.000000</td>\n",
       "      <td>0.000000</td>\n",
       "      <td>0.000000</td>\n",
       "      <td>0.000000</td>\n",
       "    </tr>\n",
       "    <tr>\n",
       "      <th>max</th>\n",
       "      <td>2022.000000</td>\n",
       "      <td>10.000000</td>\n",
       "      <td>7.000000</td>\n",
       "      <td>1.000000</td>\n",
       "      <td>1.000000</td>\n",
       "      <td>5.000000</td>\n",
       "      <td>5.000000</td>\n",
       "    </tr>\n",
       "  </tbody>\n",
       "</table>\n",
       "</div>"
      ],
      "text/plain": [
       "              Year   HomeScore   AwayScore   ExtraTime     Penalty  \\\n",
       "count   964.000000  964.000000  964.000000  964.000000  964.000000   \n",
       "mean   1989.244813    1.763485    1.058091    0.075726    0.036307   \n",
       "std      24.014409    1.601555    1.073008    0.264697    0.187150   \n",
       "min    1930.000000    0.000000    0.000000    0.000000    0.000000   \n",
       "25%    1974.000000    1.000000    0.000000    0.000000    0.000000   \n",
       "50%    1994.000000    1.000000    1.000000    0.000000    0.000000   \n",
       "75%    2010.000000    3.000000    2.000000    0.000000    0.000000   \n",
       "max    2022.000000   10.000000    7.000000    1.000000    1.000000   \n",
       "\n",
       "       HomePenaltyScore  AwayPenaltyScore  \n",
       "count        964.000000        964.000000  \n",
       "mean           0.121369          0.108921  \n",
       "std            0.665731          0.600764  \n",
       "min            0.000000          0.000000  \n",
       "25%            0.000000          0.000000  \n",
       "50%            0.000000          0.000000  \n",
       "75%            0.000000          0.000000  \n",
       "max            5.000000          5.000000  "
      ]
     },
     "execution_count": 8,
     "metadata": {},
     "output_type": "execute_result"
    }
   ],
   "source": [
    "matchdata.describe()"
   ]
  },
  {
   "cell_type": "markdown",
   "id": "progressive-consultancy",
   "metadata": {},
   "source": [
    "#### check whether nulls are present"
   ]
  },
  {
   "cell_type": "code",
   "execution_count": 9,
   "id": "purple-intent",
   "metadata": {},
   "outputs": [
    {
     "data": {
      "text/plain": [
       "Year                  0\n",
       "Date                  0\n",
       "Time                  0\n",
       "HomeTeam              0\n",
       "AwayTeam              0\n",
       "HomeScore             0\n",
       "AwayScore             0\n",
       "HomeScorers         214\n",
       "AwayScorers         338\n",
       "ExtraTime             0\n",
       "Penalty               0\n",
       "HomePenaltyScore      0\n",
       "AwayPenaltyScore      0\n",
       "Stadium               0\n",
       "Location              0\n",
       "Attendance            0\n",
       "Referee               0\n",
       "dtype: int64"
      ]
     },
     "execution_count": 9,
     "metadata": {},
     "output_type": "execute_result"
    }
   ],
   "source": [
    "matchdata.isnull().sum(axis=0)"
   ]
  },
  {
   "cell_type": "markdown",
   "id": "imported-heading",
   "metadata": {},
   "source": [
    "There are NaNs for the HomeScorers and AwayScorers because of matches where the score ended 0-0"
   ]
  },
  {
   "cell_type": "code",
   "execution_count": 10,
   "id": "unable-quantity",
   "metadata": {},
   "outputs": [
    {
     "data": {
      "text/plain": [
       "0"
      ]
     },
     "execution_count": 10,
     "metadata": {},
     "output_type": "execute_result"
    }
   ],
   "source": [
    "matchdata.duplicated().sum(axis=0)"
   ]
  },
  {
   "cell_type": "markdown",
   "id": "level-graduation",
   "metadata": {},
   "source": [
    "#### change attendance data type from object to numerical\n",
    "Looking at the data, the attendance column had samples such 4,444 and 4,444[19] from the scraping"
   ]
  },
  {
   "cell_type": "code",
   "execution_count": 11,
   "id": "ignored-timer",
   "metadata": {},
   "outputs": [],
   "source": [
    "def clean_attendance(strnum):\n",
    "    # find samples with '[' in them\n",
    "    if '[' in strnum:\n",
    "        strnum = strnum[:strnum.index('[')]\n",
    "    \n",
    "    # split the data if there is either ',' or '.'\n",
    "    if ',' in strnum:\n",
    "        s_split = strnum.split(',')\n",
    "        floatnum = int(''.join((s_split[0], s_split[1])))\n",
    "    elif '.' in strnum:\n",
    "        s_split = strnum.split('.')\n",
    "        floatnum = int(''.join((s_split[0], s_split[1])))\n",
    "    else:\n",
    "        floatnum = int(strnum)\n",
    "    return floatnum"
   ]
  },
  {
   "cell_type": "code",
   "execution_count": 12,
   "id": "canadian-drink",
   "metadata": {},
   "outputs": [
    {
     "name": "stdout",
     "output_type": "stream",
     "text": [
      "<class 'pandas.core.frame.DataFrame'>\n",
      "RangeIndex: 964 entries, 0 to 963\n",
      "Data columns (total 17 columns):\n",
      " #   Column            Non-Null Count  Dtype \n",
      "---  ------            --------------  ----- \n",
      " 0   Year              964 non-null    int64 \n",
      " 1   Date              964 non-null    object\n",
      " 2   Time              964 non-null    object\n",
      " 3   HomeTeam          964 non-null    object\n",
      " 4   AwayTeam          964 non-null    object\n",
      " 5   HomeScore         964 non-null    int64 \n",
      " 6   AwayScore         964 non-null    int64 \n",
      " 7   HomeScorers       750 non-null    object\n",
      " 8   AwayScorers       626 non-null    object\n",
      " 9   ExtraTime         964 non-null    int64 \n",
      " 10  Penalty           964 non-null    int64 \n",
      " 11  HomePenaltyScore  964 non-null    int64 \n",
      " 12  AwayPenaltyScore  964 non-null    int64 \n",
      " 13  Stadium           964 non-null    object\n",
      " 14  Location          964 non-null    object\n",
      " 15  Attendance        964 non-null    int64 \n",
      " 16  Referee           964 non-null    object\n",
      "dtypes: int64(8), object(9)\n",
      "memory usage: 128.2+ KB\n"
     ]
    }
   ],
   "source": [
    "matchdata.loc[:, 'Attendance'] = matchdata['Attendance'].apply(clean_attendance)\n",
    "matchdata.info()"
   ]
  },
  {
   "cell_type": "markdown",
   "id": "impressed-bookmark",
   "metadata": {},
   "source": [
    "### STEP 4: DATA VISUALIZATIONS"
   ]
  },
  {
   "cell_type": "markdown",
   "id": "ahead-encounter",
   "metadata": {},
   "source": [
    " create a function to add text to data"
   ]
  },
  {
   "cell_type": "code",
   "execution_count": 13,
   "id": "brilliant-halifax",
   "metadata": {},
   "outputs": [],
   "source": [
    "def addlabels(x, y, ax, dist):\n",
    "    for i in range(len(x)):\n",
    "        ax.text(x[i],y[i]+dist,y[i], fontweight='semibold', va='center', ha='center', fontsize=10)"
   ]
  },
  {
   "attachments": {},
   "cell_type": "markdown",
   "id": "regular-virginia",
   "metadata": {},
   "source": [
    "#### 1. How many matches have been played in each world cup? "
   ]
  },
  {
   "cell_type": "code",
   "execution_count": 14,
   "id": "behind-adaptation",
   "metadata": {
    "scrolled": false
   },
   "outputs": [
    {
     "data": {
      "image/png": "[encoded data removed]",
      "text/plain": [
       "<Figure size 1296x432 with 1 Axes>"
      ]
     },
     "metadata": {
      "needs_background": "light"
     },
     "output_type": "display_data"
    }
   ],
   "source": [
    "grouped = matchdata.groupby(by = ['Year'])['Year'].count().reset_index(name = 'counts')\n",
    "x = grouped['Year'].values\n",
    "y = grouped['counts'].values\n",
    "\n",
    "fig, ax = plt.subplots(figsize=(18,6))\n",
    "ax.bar(np.arange(len(x)), y)\n",
    "ax.set_xticks(np.arange(len(x)))\n",
    "ax.set_xticklabels(x)\n",
    "addlabels(np.arange(len(x)), y, ax, 1)\n",
    "ax.set_xlabel('Year of World Cup')\n",
    "ax.set_ylabel('number of matches played')\n",
    "plt.show()"
   ]
  },
  {
   "attachments": {},
   "cell_type": "markdown",
   "id": "contrary-compatibility",
   "metadata": {},
   "source": [
    "#### 2. How many goals have been scored in each world cup?\n",
    "\n",
    "From the matchdata dataframe, a row constitutes a match and the scoreline for both the home  and away teams are recorded under the columns \"HomeScore\"  and \"AwayScore\". To answer this questions, we can create a new column e.g. MatchGoals where we add the HomeScore and AwayScore"
   ]
  },
  {
   "cell_type": "code",
   "execution_count": 15,
   "id": "fallen-pickup",
   "metadata": {},
   "outputs": [],
   "source": [
    "matchdata['MatchGoals'] = matchdata['HomeScore'] + matchdata['AwayScore']"
   ]
  },
  {
   "cell_type": "code",
   "execution_count": 16,
   "id": "premier-citizenship",
   "metadata": {},
   "outputs": [
    {
     "data": {
      "image/png": "[encoded data removed]",
      "text/plain": [
       "<Figure size 1296x432 with 1 Axes>"
      ]
     },
     "metadata": {
      "needs_background": "light"
     },
     "output_type": "display_data"
    }
   ],
   "source": [
    "grouped = matchdata.groupby(by = ['Year'])['MatchGoals'].sum().reset_index(name = 'sum')\n",
    "x = grouped['Year'].values\n",
    "y = grouped['sum'].values\n",
    "\n",
    "fig, ax = plt.subplots(figsize=(18,6))\n",
    "ax.bar(np.arange(len(x)), y)\n",
    "ax.set_xticks(np.arange(len(x)))\n",
    "ax.set_xticklabels(x)\n",
    "addlabels(np.arange(len(x)), y, ax, 1.5)\n",
    "ax.set_xlabel('Year of World Cup')\n",
    "ax.set_ylabel('number of goals scored')\n",
    "plt.show()\n"
   ]
  },
  {
   "attachments": {},
   "cell_type": "markdown",
   "id": "timely-singles",
   "metadata": {},
   "source": [
    "#### 3. How many goals per match have been scored in each world cup?"
   ]
  },
  {
   "cell_type": "code",
   "execution_count": 17,
   "id": "naked-algeria",
   "metadata": {},
   "outputs": [
    {
     "data": {
      "image/png": "[encoded data removed]",
      "text/plain": [
       "<Figure size 1296x432 with 1 Axes>"
      ]
     },
     "metadata": {
      "needs_background": "light"
     },
     "output_type": "display_data"
    }
   ],
   "source": [
    "grouped = matchdata.groupby(by = ['Year'])['MatchGoals'].apply(lambda x: x.sum()/x.count()).reset_index(name='gpm')\n",
    "x = grouped['Year'].values\n",
    "y = np.round(grouped['gpm'].values, 2)\n",
    "\n",
    "fig, ax = plt.subplots(figsize=(18,6))\n",
    "ax.bar(np.arange(len(x)), y)\n",
    "ax.set_xticks(np.arange(len(x)))\n",
    "ax.set_xticklabels(x)\n",
    "addlabels(np.arange(len(x)), y, ax, 0.1)\n",
    "ax.set_xlabel('Year of World Cup')\n",
    "ax.set_ylabel('number of goals per match')\n",
    "plt.show()"
   ]
  },
  {
   "cell_type": "markdown",
   "id": "indian-eight",
   "metadata": {},
   "source": [
    "#### 4. What is the average attendance per match for each world cup?"
   ]
  },
  {
   "cell_type": "code",
   "execution_count": 18,
   "id": "scheduled-birth",
   "metadata": {},
   "outputs": [
    {
     "data": {
      "image/png": "[encoded data removed]",
      "text/plain": [
       "<Figure size 1296x432 with 1 Axes>"
      ]
     },
     "metadata": {
      "needs_background": "light"
     },
     "output_type": "display_data"
    }
   ],
   "source": [
    "grouped = matchdata.groupby(by = ['Year'])['Attendance'].apply(lambda x: x.sum()/x.count()).reset_index(name='attpm')\n",
    "x = grouped['Year'].values\n",
    "y = grouped['attpm'].values.astype(int)\n",
    "\n",
    "fig, ax = plt.subplots(figsize=(18,6))\n",
    "ax.bar(np.arange(len(x)), y)\n",
    "ax.set_xticks(np.arange(len(x)))\n",
    "ax.set_xticklabels(x)\n",
    "addlabels(np.arange(len(x)), y, ax, 1000)\n",
    "ax.set_xlabel('Year of World Cup')\n",
    "ax.set_ylabel('average attendance per match')\n",
    "plt.show()"
   ]
  },
  {
   "cell_type": "markdown",
   "id": "supposed-investing",
   "metadata": {},
   "source": [
    "#### 5. How many matches did not end in regulation time (i.e. 90 minutes) and had to go to extra time or penalties, at each world cup?"
   ]
  },
  {
   "cell_type": "code",
   "execution_count": 19,
   "id": "outdoor-decade",
   "metadata": {},
   "outputs": [
    {
     "data": {
      "image/png": "[encoded data removed]",
      "text/plain": [
       "<Figure size 1296x432 with 1 Axes>"
      ]
     },
     "metadata": {
      "needs_background": "light"
     },
     "output_type": "display_data"
    }
   ],
   "source": [
    "grouped = matchdata.groupby(by = ['Year'])[['ExtraTime', 'Penalty']].sum().reset_index()\n",
    "\n",
    "label_x = grouped['Year'].values\n",
    "y1 = grouped['ExtraTime'].values\n",
    "y2 = grouped['Penalty'].values\n",
    "\n",
    "width = 0.35\n",
    "x1 = np.arange(len(label_x)) - width/2\n",
    "x2 = np.arange(len(label_x)) + width/2\n",
    "\n",
    "fig, ax = plt.subplots(figsize=(18,6))\n",
    "ax.bar(x1, y1, width, label='ExtraTime')\n",
    "ax.bar(x2, y2, width, label='Penalty')\n",
    "\n",
    "ax.set_xticks(np.arange(len(x)))\n",
    "ax.set_xticklabels(x)\n",
    "ax.legend()\n",
    "addlabels(x1-0.05, y1, ax, .1)\n",
    "addlabels(x2+0.05, y2, ax, .1)\n",
    "ax.set_xlabel('Year of World Cup')\n",
    "ax.set_ylabel('number of matches')\n",
    "plt.show()\n"
   ]
  },
  {
   "cell_type": "markdown",
   "id": "pleased-coverage",
   "metadata": {},
   "source": [
    "#### 6. Which teams have won the most world cups?\n",
    "\n",
    "Based on the structure of the datasets, we have to compute the winner of every match\n",
    "To do this, we will compare the HomeScore + HomePenalty vs AwayScore + AwayPenalty\n",
    "\n",
    "N.B. We want to replace West Germany or East Germany with Germany"
   ]
  },
  {
   "cell_type": "code",
   "execution_count": 20,
   "id": "simple-redhead",
   "metadata": {},
   "outputs": [],
   "source": [
    "matchdata.loc[matchdata['HomeTeam'].isin(['West Germany', 'East Germany']), 'HomeTeam'] = 'Germany'\n",
    "matchdata.loc[matchdata['AwayTeam'].isin(['West Germany', 'East Germany']), 'AwayTeam'] = 'Germany'             "
   ]
  },
  {
   "cell_type": "markdown",
   "id": "cardiovascular-click",
   "metadata": {},
   "source": [
    "First, we will find the winner and losers of each match (i.e. row)"
   ]
  },
  {
   "cell_type": "code",
   "execution_count": 21,
   "id": "forbidden-worse",
   "metadata": {
    "scrolled": false
   },
   "outputs": [],
   "source": [
    "for idx, x in matchdata.iterrows():\n",
    "    if (x['HomeScore'] + x['HomePenaltyScore']) > (x['AwayScore'] + x['AwayPenaltyScore']):\n",
    "        matchdata.loc[idx, 'MatchWinner'] = x['HomeTeam']\n",
    "        matchdata.loc[idx, 'MatchLoser'] = x['AwayTeam']\n",
    "    elif (x['HomeScore'] + x['HomePenaltyScore']) < (x['AwayScore'] + x['AwayPenaltyScore']):\n",
    "        matchdata.loc[idx, 'MatchWinner'] = x['AwayTeam']\n",
    "        matchdata.loc[idx, 'MatchLoser'] = x['HomeTeam']\n",
    "    else:\n",
    "        matchdata.loc[idx, 'MatchWinner'] = 'Stalemate'\n",
    "        matchdata.loc[idx, 'MatchLoser'] = 'Stalemate'"
   ]
  },
  {
   "cell_type": "code",
   "execution_count": 22,
   "id": "sorted-standard",
   "metadata": {},
   "outputs": [
    {
     "data": {
      "text/html": [
       "<div>\n",
       "<style scoped>\n",
       "    .dataframe tbody tr th:only-of-type {\n",
       "        vertical-align: middle;\n",
       "    }\n",
       "\n",
       "    .dataframe tbody tr th {\n",
       "        vertical-align: top;\n",
       "    }\n",
       "\n",
       "    .dataframe thead th {\n",
       "        text-align: right;\n",
       "    }\n",
       "</style>\n",
       "<table border=\"1\" class=\"dataframe\">\n",
       "  <thead>\n",
       "    <tr style=\"text-align: right;\">\n",
       "      <th></th>\n",
       "      <th>Year</th>\n",
       "      <th>HomeTeam</th>\n",
       "      <th>HomeScore</th>\n",
       "      <th>HomePenaltyScore</th>\n",
       "      <th>AwayTeam</th>\n",
       "      <th>AwayScore</th>\n",
       "      <th>AwayPenaltyScore</th>\n",
       "      <th>MatchWinner</th>\n",
       "      <th>MatchLoser</th>\n",
       "    </tr>\n",
       "  </thead>\n",
       "  <tbody>\n",
       "    <tr>\n",
       "      <th>0</th>\n",
       "      <td>1930</td>\n",
       "      <td>France</td>\n",
       "      <td>4</td>\n",
       "      <td>0</td>\n",
       "      <td>Mexico</td>\n",
       "      <td>1</td>\n",
       "      <td>0</td>\n",
       "      <td>France</td>\n",
       "      <td>Mexico</td>\n",
       "    </tr>\n",
       "    <tr>\n",
       "      <th>1</th>\n",
       "      <td>1930</td>\n",
       "      <td>Argentina</td>\n",
       "      <td>1</td>\n",
       "      <td>0</td>\n",
       "      <td>France</td>\n",
       "      <td>0</td>\n",
       "      <td>0</td>\n",
       "      <td>Argentina</td>\n",
       "      <td>France</td>\n",
       "    </tr>\n",
       "    <tr>\n",
       "      <th>2</th>\n",
       "      <td>1930</td>\n",
       "      <td>Chile</td>\n",
       "      <td>3</td>\n",
       "      <td>0</td>\n",
       "      <td>Mexico</td>\n",
       "      <td>0</td>\n",
       "      <td>0</td>\n",
       "      <td>Chile</td>\n",
       "      <td>Mexico</td>\n",
       "    </tr>\n",
       "    <tr>\n",
       "      <th>3</th>\n",
       "      <td>1930</td>\n",
       "      <td>Chile</td>\n",
       "      <td>1</td>\n",
       "      <td>0</td>\n",
       "      <td>France</td>\n",
       "      <td>0</td>\n",
       "      <td>0</td>\n",
       "      <td>Chile</td>\n",
       "      <td>France</td>\n",
       "    </tr>\n",
       "    <tr>\n",
       "      <th>4</th>\n",
       "      <td>1930</td>\n",
       "      <td>Argentina</td>\n",
       "      <td>6</td>\n",
       "      <td>0</td>\n",
       "      <td>Mexico</td>\n",
       "      <td>3</td>\n",
       "      <td>0</td>\n",
       "      <td>Argentina</td>\n",
       "      <td>Mexico</td>\n",
       "    </tr>\n",
       "    <tr>\n",
       "      <th>5</th>\n",
       "      <td>1930</td>\n",
       "      <td>Argentina</td>\n",
       "      <td>3</td>\n",
       "      <td>0</td>\n",
       "      <td>Chile</td>\n",
       "      <td>1</td>\n",
       "      <td>0</td>\n",
       "      <td>Argentina</td>\n",
       "      <td>Chile</td>\n",
       "    </tr>\n",
       "    <tr>\n",
       "      <th>6</th>\n",
       "      <td>1930</td>\n",
       "      <td>Yugoslavia</td>\n",
       "      <td>2</td>\n",
       "      <td>0</td>\n",
       "      <td>Brazil</td>\n",
       "      <td>1</td>\n",
       "      <td>0</td>\n",
       "      <td>Yugoslavia</td>\n",
       "      <td>Brazil</td>\n",
       "    </tr>\n",
       "    <tr>\n",
       "      <th>7</th>\n",
       "      <td>1930</td>\n",
       "      <td>Yugoslavia</td>\n",
       "      <td>4</td>\n",
       "      <td>0</td>\n",
       "      <td>Bolivia</td>\n",
       "      <td>0</td>\n",
       "      <td>0</td>\n",
       "      <td>Yugoslavia</td>\n",
       "      <td>Bolivia</td>\n",
       "    </tr>\n",
       "    <tr>\n",
       "      <th>8</th>\n",
       "      <td>1930</td>\n",
       "      <td>Brazil</td>\n",
       "      <td>4</td>\n",
       "      <td>0</td>\n",
       "      <td>Bolivia</td>\n",
       "      <td>0</td>\n",
       "      <td>0</td>\n",
       "      <td>Brazil</td>\n",
       "      <td>Bolivia</td>\n",
       "    </tr>\n",
       "    <tr>\n",
       "      <th>9</th>\n",
       "      <td>1930</td>\n",
       "      <td>Romania</td>\n",
       "      <td>3</td>\n",
       "      <td>0</td>\n",
       "      <td>Peru</td>\n",
       "      <td>1</td>\n",
       "      <td>0</td>\n",
       "      <td>Romania</td>\n",
       "      <td>Peru</td>\n",
       "    </tr>\n",
       "  </tbody>\n",
       "</table>\n",
       "</div>"
      ],
      "text/plain": [
       "   Year    HomeTeam  HomeScore  HomePenaltyScore AwayTeam  AwayScore  \\\n",
       "0  1930      France          4                 0   Mexico          1   \n",
       "1  1930   Argentina          1                 0   France          0   \n",
       "2  1930       Chile          3                 0   Mexico          0   \n",
       "3  1930       Chile          1                 0   France          0   \n",
       "4  1930   Argentina          6                 0   Mexico          3   \n",
       "5  1930   Argentina          3                 0    Chile          1   \n",
       "6  1930  Yugoslavia          2                 0   Brazil          1   \n",
       "7  1930  Yugoslavia          4                 0  Bolivia          0   \n",
       "8  1930      Brazil          4                 0  Bolivia          0   \n",
       "9  1930     Romania          3                 0     Peru          1   \n",
       "\n",
       "   AwayPenaltyScore MatchWinner MatchLoser  \n",
       "0                 0      France     Mexico  \n",
       "1                 0   Argentina     France  \n",
       "2                 0       Chile     Mexico  \n",
       "3                 0       Chile     France  \n",
       "4                 0   Argentina     Mexico  \n",
       "5                 0   Argentina      Chile  \n",
       "6                 0  Yugoslavia     Brazil  \n",
       "7                 0  Yugoslavia    Bolivia  \n",
       "8                 0      Brazil    Bolivia  \n",
       "9                 0     Romania       Peru  "
      ]
     },
     "execution_count": 22,
     "metadata": {},
     "output_type": "execute_result"
    }
   ],
   "source": [
    "matchdata[['Year', 'HomeTeam', 'HomeScore', 'HomePenaltyScore', 'AwayTeam', 'AwayScore', 'AwayPenaltyScore', 'MatchWinner', 'MatchLoser']].head(10)"
   ]
  },
  {
   "cell_type": "code",
   "execution_count": 23,
   "id": "allied-pilot",
   "metadata": {},
   "outputs": [
    {
     "data": {
      "text/plain": [
       "Brazil       5\n",
       "Germany      4\n",
       "Italy        4\n",
       "Argentina    3\n",
       "France       2\n",
       "Uruguay      2\n",
       "England      1\n",
       "Spain        1\n",
       "Name: winner, dtype: int64"
      ]
     },
     "execution_count": 23,
     "metadata": {},
     "output_type": "execute_result"
    }
   ],
   "source": [
    "matchdata.groupby(by = ['Year'])['MatchWinner'].last().reset_index(name = 'winner')['winner'].value_counts()"
   ]
  },
  {
   "cell_type": "markdown",
   "id": "unique-manitoba",
   "metadata": {},
   "source": [
    "#### 7. Which Team has played the most matches in World Cup History\n",
    "\n",
    "To answer the rest of questions, it will be easier to have a long version of the data each row is converted into two rows for each team. "
   ]
  },
  {
   "cell_type": "code",
   "execution_count": 24,
   "id": "nervous-batman",
   "metadata": {},
   "outputs": [],
   "source": [
    "match_long = []\n",
    "for idx, x in matchdata.iterrows():\n",
    "    # home data\n",
    "    match_long.append(x[['Year', 'Time', 'HomeTeam', 'HomeScore', 'AwayTeam', 'AwayScore', \n",
    "                       'ExtraTime', 'Penalty', 'Attendance']].values)\n",
    "    \n",
    "    # away data\n",
    "    match_long.append(x[['Year', 'Time', 'AwayTeam', 'AwayScore', 'HomeTeam', 'HomeScore', \n",
    "                         'ExtraTime', 'Penalty', 'Attendance']].values)"
   ]
  },
  {
   "cell_type": "code",
   "execution_count": 25,
   "id": "color-drawing",
   "metadata": {},
   "outputs": [
    {
     "data": {
      "text/html": [
       "<div>\n",
       "<style scoped>\n",
       "    .dataframe tbody tr th:only-of-type {\n",
       "        vertical-align: middle;\n",
       "    }\n",
       "\n",
       "    .dataframe tbody tr th {\n",
       "        vertical-align: top;\n",
       "    }\n",
       "\n",
       "    .dataframe thead th {\n",
       "        text-align: right;\n",
       "    }\n",
       "</style>\n",
       "<table border=\"1\" class=\"dataframe\">\n",
       "  <thead>\n",
       "    <tr style=\"text-align: right;\">\n",
       "      <th></th>\n",
       "      <th>Year</th>\n",
       "      <th>Time</th>\n",
       "      <th>Team</th>\n",
       "      <th>TGoals</th>\n",
       "      <th>Opponent</th>\n",
       "      <th>OGoals</th>\n",
       "      <th>ExtraTime</th>\n",
       "      <th>Penalty</th>\n",
       "      <th>Attendance</th>\n",
       "    </tr>\n",
       "  </thead>\n",
       "  <tbody>\n",
       "    <tr>\n",
       "      <th>0</th>\n",
       "      <td>1930</td>\n",
       "      <td>15:00 UYT (UTC−03:30)</td>\n",
       "      <td>France</td>\n",
       "      <td>4</td>\n",
       "      <td>Mexico</td>\n",
       "      <td>1</td>\n",
       "      <td>0</td>\n",
       "      <td>0</td>\n",
       "      <td>4444</td>\n",
       "    </tr>\n",
       "    <tr>\n",
       "      <th>1</th>\n",
       "      <td>1930</td>\n",
       "      <td>15:00 UYT (UTC−03:30)</td>\n",
       "      <td>Mexico</td>\n",
       "      <td>1</td>\n",
       "      <td>France</td>\n",
       "      <td>4</td>\n",
       "      <td>0</td>\n",
       "      <td>0</td>\n",
       "      <td>4444</td>\n",
       "    </tr>\n",
       "    <tr>\n",
       "      <th>2</th>\n",
       "      <td>1930</td>\n",
       "      <td>16:00 UYT (UTC−03:30)</td>\n",
       "      <td>Argentina</td>\n",
       "      <td>1</td>\n",
       "      <td>France</td>\n",
       "      <td>0</td>\n",
       "      <td>0</td>\n",
       "      <td>0</td>\n",
       "      <td>23409</td>\n",
       "    </tr>\n",
       "    <tr>\n",
       "      <th>3</th>\n",
       "      <td>1930</td>\n",
       "      <td>16:00 UYT (UTC−03:30)</td>\n",
       "      <td>France</td>\n",
       "      <td>0</td>\n",
       "      <td>Argentina</td>\n",
       "      <td>1</td>\n",
       "      <td>0</td>\n",
       "      <td>0</td>\n",
       "      <td>23409</td>\n",
       "    </tr>\n",
       "    <tr>\n",
       "      <th>4</th>\n",
       "      <td>1930</td>\n",
       "      <td>14:45 UYT (UTC−03:30)</td>\n",
       "      <td>Chile</td>\n",
       "      <td>3</td>\n",
       "      <td>Mexico</td>\n",
       "      <td>0</td>\n",
       "      <td>0</td>\n",
       "      <td>0</td>\n",
       "      <td>9249</td>\n",
       "    </tr>\n",
       "  </tbody>\n",
       "</table>\n",
       "</div>"
      ],
      "text/plain": [
       "   Year                   Time       Team  TGoals   Opponent  OGoals  \\\n",
       "0  1930  15:00 UYT (UTC−03:30)     France       4     Mexico       1   \n",
       "1  1930  15:00 UYT (UTC−03:30)     Mexico       1     France       4   \n",
       "2  1930  16:00 UYT (UTC−03:30)  Argentina       1     France       0   \n",
       "3  1930  16:00 UYT (UTC−03:30)     France       0  Argentina       1   \n",
       "4  1930  14:45 UYT (UTC−03:30)      Chile       3     Mexico       0   \n",
       "\n",
       "   ExtraTime  Penalty  Attendance  \n",
       "0          0        0        4444  \n",
       "1          0        0        4444  \n",
       "2          0        0       23409  \n",
       "3          0        0       23409  \n",
       "4          0        0        9249  "
      ]
     },
     "execution_count": 25,
     "metadata": {},
     "output_type": "execute_result"
    }
   ],
   "source": [
    "match_long = pd.DataFrame(match_long, columns=['Year', 'Time', 'Team', 'TGoals', \n",
    "                                               'Opponent', 'OGoals', 'ExtraTime', 'Penalty', 'Attendance'])\n",
    "match_long.head()"
   ]
  },
  {
   "cell_type": "markdown",
   "id": "hindu-amino",
   "metadata": {},
   "source": [
    "Now, Let's answer the question......."
   ]
  },
  {
   "cell_type": "code",
   "execution_count": 26,
   "id": "civilian-example",
   "metadata": {},
   "outputs": [
    {
     "data": {
      "image/png": "[encoded data removed]",
      "text/plain": [
       "<Figure size 1296x432 with 1 Axes>"
      ]
     },
     "metadata": {
      "needs_background": "light"
     },
     "output_type": "display_data"
    }
   ],
   "source": [
    "grouped = match_long.groupby(by = ['Team'])['Team'].count().reset_index(name = 'counts').sort_values('counts', ascending=False)\n",
    "grouped = grouped[:10]\n",
    "x = grouped['Team']\n",
    "y = grouped['counts'].values\n",
    "\n",
    "fig, ax = plt.subplots(figsize=(18,6))\n",
    "ax.bar(np.arange(len(x)), y)\n",
    "ax.set_xticks(np.arange(len(x)))\n",
    "ax.set_xticklabels(x)\n",
    "addlabels(np.arange(len(x)), y, ax, 1)\n",
    "ax.set_xlabel('Country')\n",
    "ax.set_ylabel('number of matches played')\n",
    "plt.show()"
   ]
  },
  {
   "cell_type": "markdown",
   "id": "loved-cartridge",
   "metadata": {},
   "source": [
    "#### 8. Which Teams have won the most matches in World Cup History"
   ]
  },
  {
   "cell_type": "code",
   "execution_count": 27,
   "id": "agricultural-employer",
   "metadata": {},
   "outputs": [],
   "source": [
    "for idx, x in match_long.iterrows():\n",
    "    if x['TGoals'] > x['OGoals']:\n",
    "        match_long.loc[idx, 'Win'] = 1\n",
    "    else:\n",
    "        match_long.loc[idx, 'Win'] = 0"
   ]
  },
  {
   "cell_type": "code",
   "execution_count": 28,
   "id": "fabulous-communications",
   "metadata": {
    "scrolled": false
   },
   "outputs": [
    {
     "data": {
      "image/png": "[encoded data removed]",
      "text/plain": [
       "<Figure size 1296x432 with 1 Axes>"
      ]
     },
     "metadata": {
      "needs_background": "light"
     },
     "output_type": "display_data"
    }
   ],
   "source": [
    "grouped = match_long.groupby(by = ['Team'])['Win'].sum().reset_index(name = 'sum').sort_values('sum', ascending=False)\n",
    "grouped = grouped[:10]\n",
    "\n",
    "x = grouped['Team']\n",
    "y = grouped['sum'].values\n",
    "\n",
    "fig, ax = plt.subplots(figsize=(18,6))\n",
    "ax.bar(np.arange(len(x)), y)\n",
    "ax.set_xticks(np.arange(len(x)))\n",
    "ax.set_xticklabels(x)\n",
    "addlabels(np.arange(len(x)), y, ax, 1.5)\n",
    "ax.set_xlabel('Country')\n",
    "ax.set_ylabel('number of matches won')\n",
    "plt.show()"
   ]
  },
  {
   "cell_type": "markdown",
   "id": "controlling-notice",
   "metadata": {},
   "source": [
    "#### 8. Which Teams have scored the most goals in World Cup History"
   ]
  },
  {
   "cell_type": "code",
   "execution_count": 29,
   "id": "allied-thunder",
   "metadata": {},
   "outputs": [
    {
     "data": {
      "image/png": "[encoded data removed]",
      "text/plain": [
       "<Figure size 1296x432 with 1 Axes>"
      ]
     },
     "metadata": {
      "needs_background": "light"
     },
     "output_type": "display_data"
    }
   ],
   "source": [
    "grouped = match_long.groupby(by = ['Team'])['TGoals'].sum().reset_index(name = 'sum').sort_values('sum', ascending=False)\n",
    "grouped = grouped[:10]\n",
    "\n",
    "x = grouped['Team']\n",
    "y = grouped['sum'].values\n",
    "\n",
    "fig, ax = plt.subplots(figsize=(18,6))\n",
    "ax.bar(np.arange(len(x)), y)\n",
    "ax.set_xticks(np.arange(len(x)))\n",
    "ax.set_xticklabels(x)\n",
    "addlabels(np.arange(len(x)), y, ax, 1.5)\n",
    "ax.set_xlabel('Country')\n",
    "ax.set_ylabel('number of goals scored')\n",
    "plt.show()"
   ]
  },
  {
   "cell_type": "markdown",
   "id": "short-nurse",
   "metadata": {},
   "source": [
    "#### 9. Which Teams have played the most extra times in World Cup History"
   ]
  },
  {
   "cell_type": "code",
   "execution_count": 30,
   "id": "proof-moldova",
   "metadata": {
    "scrolled": false
   },
   "outputs": [
    {
     "data": {
      "image/png": "[encoded data removed]",
      "text/plain": [
       "<Figure size 1296x432 with 1 Axes>"
      ]
     },
     "metadata": {
      "needs_background": "light"
     },
     "output_type": "display_data"
    }
   ],
   "source": [
    "grouped = match_long.groupby(by = ['Team'])['ExtraTime'].sum().reset_index(name = 'sum').sort_values('sum', ascending=False)\n",
    "grouped = grouped[:10]\n",
    "\n",
    "x = grouped['Team']\n",
    "y = grouped['sum'].values\n",
    "\n",
    "fig, ax = plt.subplots(figsize=(18,6))\n",
    "ax.bar(np.arange(len(x)), y)\n",
    "ax.set_xticks(np.arange(len(x)))\n",
    "ax.set_xticklabels(x)\n",
    "addlabels(np.arange(len(x)), y, ax, .2)\n",
    "ax.set_xlabel('Country')\n",
    "ax.set_ylabel('number of extra time matches')\n",
    "plt.show()"
   ]
  },
  {
   "cell_type": "markdown",
   "id": "southern-match",
   "metadata": {},
   "source": [
    "#### 10. Which Teams have played the most penalty matches in World Cup History"
   ]
  },
  {
   "cell_type": "code",
   "execution_count": 31,
   "id": "nearby-wages",
   "metadata": {
    "scrolled": false
   },
   "outputs": [
    {
     "data": {
      "image/png": "[encoded data removed]",
      "text/plain": [
       "<Figure size 1296x432 with 1 Axes>"
      ]
     },
     "metadata": {
      "needs_background": "light"
     },
     "output_type": "display_data"
    }
   ],
   "source": [
    "grouped = match_long.groupby(by = ['Team'])['Penalty'].sum().reset_index(name = 'sum').sort_values('sum', ascending=False)\n",
    "grouped = grouped[:10]\n",
    "\n",
    "x = grouped['Team']\n",
    "y = grouped['sum'].values\n",
    "\n",
    "fig, ax = plt.subplots(figsize=(18,6))\n",
    "ax.bar(np.arange(len(x)), y)\n",
    "ax.set_xticks(np.arange(len(x)))\n",
    "ax.set_xticklabels(x)\n",
    "addlabels(np.arange(len(x)), y, ax, .2)\n",
    "ax.set_xlabel('Country')\n",
    "ax.set_ylabel('number of penalty matches')\n",
    "plt.show()"
   ]
  },
  {
   "cell_type": "markdown",
   "id": "orange-concrete",
   "metadata": {},
   "source": [
    "#### 11. Which Teams have received the most attendance per match in World Cup History"
   ]
  },
  {
   "cell_type": "code",
   "execution_count": 32,
   "id": "wanted-brand",
   "metadata": {},
   "outputs": [
    {
     "data": {
      "image/png": "[encoded data removed]",
      "text/plain": [
       "<Figure size 1296x432 with 1 Axes>"
      ]
     },
     "metadata": {
      "needs_background": "light"
     },
     "output_type": "display_data"
    }
   ],
   "source": [
    "grouped = match_long.groupby(by = ['Team'])['Attendance'].apply(lambda x: x.sum()/x.count()).reset_index(name='attpm').sort_values('attpm', ascending=False)\n",
    "grouped = grouped[:20]\n",
    "\n",
    "x = grouped['Team']\n",
    "y = grouped['attpm'].values.astype(int)\n",
    "\n",
    "fig, ax = plt.subplots(figsize=(18,6))\n",
    "ax.bar(np.arange(len(x)), y)\n",
    "ax.set_xticks(np.arange(len(x)))\n",
    "ax.set_xticklabels(x, ha='right', rotation = 45)\n",
    "addlabels(np.arange(len(x)), y, ax, 1000)\n",
    "ax.set_xlabel('Country')\n",
    "ax.set_ylabel('average attendance per match')\n",
    "plt.show()"
   ]
  },
  {
   "cell_type": "markdown",
   "id": "equipped-incentive",
   "metadata": {},
   "source": [
    "#### 12. Which Teams have played each other the most in World Cup History"
   ]
  },
  {
   "cell_type": "code",
   "execution_count": 33,
   "id": "precious-relative",
   "metadata": {},
   "outputs": [],
   "source": [
    "matchdata['MatchName'] = matchdata['HomeTeam'] + ' vs ' + matchdata['AwayTeam']"
   ]
  },
  {
   "cell_type": "code",
   "execution_count": 34,
   "id": "competitive-frequency",
   "metadata": {},
   "outputs": [
    {
     "data": {
      "image/png": "[encoded data removed]",
      "text/plain": [
       "<Figure size 1296x432 with 1 Axes>"
      ]
     },
     "metadata": {
      "needs_background": "light"
     },
     "output_type": "display_data"
    }
   ],
   "source": [
    "grouped = matchdata.groupby(by = ['MatchName'])['MatchName'].count().reset_index(name = 'counts').sort_values('counts', ascending=False)\n",
    "grouped = grouped[:20]\n",
    "x = grouped['MatchName'].values\n",
    "y = grouped['counts'].values\n",
    "\n",
    "fig, ax = plt.subplots(figsize=(18,6))\n",
    "ax.bar(np.arange(len(x)), y)\n",
    "ax.set_xticks(np.arange(len(x)))\n",
    "ax.set_xticklabels(x, ha='right', rotation = 45)\n",
    "addlabels(np.arange(len(x)), y, ax, .1)\n",
    "ax.set_xlabel('Matches')\n",
    "ax.set_ylabel('number of matches')\n",
    "plt.show()"
   ]
  },
  {
   "cell_type": "code",
   "execution_count": null,
   "id": "quantitative-agriculture",
   "metadata": {},
   "outputs": [],
   "source": []
  },
  {
   "cell_type": "markdown",
   "id": "nonprofit-export",
   "metadata": {},
   "source": []
  },
  {
   "cell_type": "code",
   "execution_count": null,
   "id": "mexican-ecology",
   "metadata": {},
   "outputs": [],
   "source": []
  },
  {
   "cell_type": "code",
   "execution_count": null,
   "id": "smooth-gothic",
   "metadata": {},
   "outputs": [],
   "source": []
  }
 ],
 "metadata": {
  "kernelspec": {
   "display_name": "Python 3",
   "language": "python",
   "name": "python3"
  },
  "language_info": {
   "codemirror_mode": {
    "name": "ipython",
    "version": 3
   },
   "file_extension": ".py",
   "mimetype": "text/x-python",
   "name": "python",
   "nbconvert_exporter": "python",
   "pygments_lexer": "ipython3",
   "version": "3.7.7"
  },
  "vscode": {
   "interpreter": {
    "hash": "cb589d75da5b2d865f42c6e10bd73f44ed6647c1f54172091e001db9971a6f67"
   }
  }
 },
 "nbformat": 4,
 "nbformat_minor": 5
}
